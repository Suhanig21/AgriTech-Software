{
  "cells": [
    {
      "cell_type": "code",
      "execution_count": 1,
      "metadata": {
        "colab": {
          "base_uri": "https://localhost:8080/"
        },
        "id": "IMtLRDY4un1M",
        "outputId": "87e61449-73b8-4c99-c2c6-32f5776954b6"
      },
      "outputs": [],
      "source": [
        "# pip install imbalanced-learn"
      ]
    },
    {
      "cell_type": "code",
      "execution_count": 2,
      "metadata": {
        "id": "VQbyB9pLyvBT"
      },
      "outputs": [
        {
          "name": "stdout",
          "output_type": "stream",
          "text": [
            "Requirement already satisfied: pandas in c:\\users\\suhani gandhi\\appdata\\local\\programs\\python\\python311\\lib\\site-packages (2.2.2)\n",
            "Requirement already satisfied: numpy>=1.23.2 in c:\\users\\suhani gandhi\\appdata\\local\\programs\\python\\python311\\lib\\site-packages (from pandas) (1.26.4)\n",
            "Requirement already satisfied: python-dateutil>=2.8.2 in c:\\users\\suhani gandhi\\appdata\\roaming\\python\\python311\\site-packages (from pandas) (2.8.2)\n",
            "Requirement already satisfied: pytz>=2020.1 in c:\\users\\suhani gandhi\\appdata\\local\\programs\\python\\python311\\lib\\site-packages (from pandas) (2024.1)\n",
            "Requirement already satisfied: tzdata>=2022.7 in c:\\users\\suhani gandhi\\appdata\\local\\programs\\python\\python311\\lib\\site-packages (from pandas) (2024.1)\n",
            "Requirement already satisfied: six>=1.5 in c:\\users\\suhani gandhi\\appdata\\roaming\\python\\python311\\site-packages (from python-dateutil>=2.8.2->pandas) (1.16.0)\n",
            "Note: you may need to restart the kernel to use updated packages.\n"
          ]
        },
        {
          "name": "stderr",
          "output_type": "stream",
          "text": [
            "\n",
            "[notice] A new release of pip is available: 23.1.2 -> 24.0\n",
            "[notice] To update, run: python.exe -m pip install --upgrade pip\n"
          ]
        }
      ],
      "source": [
        "import numpy as np\n",
        "%pip install pandas\n",
        "import pandas as pd\n",
        "from sklearn.decomposition import PCA\n",
        "from sklearn.preprocessing import StandardScaler, MinMaxScaler\n",
        "from sklearn.ensemble import RandomForestClassifier"
      ]
    },
    {
      "cell_type": "code",
      "execution_count": 3,
      "metadata": {
        "colab": {
          "base_uri": "https://localhost:8080/",
          "height": 206
        },
        "id": "PE8wYbLby57E",
        "outputId": "93046557-af35-486a-90b1-dd6dd9ba84f2"
      },
      "outputs": [
        {
          "data": {
            "text/html": [
              "<div>\n",
              "<style scoped>\n",
              "    .dataframe tbody tr th:only-of-type {\n",
              "        vertical-align: middle;\n",
              "    }\n",
              "\n",
              "    .dataframe tbody tr th {\n",
              "        vertical-align: top;\n",
              "    }\n",
              "\n",
              "    .dataframe thead th {\n",
              "        text-align: right;\n",
              "    }\n",
              "</style>\n",
              "<table border=\"1\" class=\"dataframe\">\n",
              "  <thead>\n",
              "    <tr style=\"text-align: right;\">\n",
              "      <th></th>\n",
              "      <th>District_Name</th>\n",
              "      <th>Soil_color</th>\n",
              "      <th>Nitrogen</th>\n",
              "      <th>Phosphorus</th>\n",
              "      <th>Potassium</th>\n",
              "      <th>pH</th>\n",
              "      <th>Rainfall</th>\n",
              "      <th>Temperature</th>\n",
              "      <th>Crop</th>\n",
              "      <th>Fertilizer</th>\n",
              "      <th>Link</th>\n",
              "    </tr>\n",
              "  </thead>\n",
              "  <tbody>\n",
              "    <tr>\n",
              "      <th>0</th>\n",
              "      <td>Kolhapur</td>\n",
              "      <td>Black</td>\n",
              "      <td>75</td>\n",
              "      <td>50</td>\n",
              "      <td>100</td>\n",
              "      <td>6.5</td>\n",
              "      <td>1000</td>\n",
              "      <td>20</td>\n",
              "      <td>Sugarcane</td>\n",
              "      <td>Urea</td>\n",
              "      <td>https://youtu.be/2t5Am0xLTOo</td>\n",
              "    </tr>\n",
              "    <tr>\n",
              "      <th>1</th>\n",
              "      <td>Kolhapur</td>\n",
              "      <td>Black</td>\n",
              "      <td>80</td>\n",
              "      <td>50</td>\n",
              "      <td>100</td>\n",
              "      <td>6.5</td>\n",
              "      <td>1000</td>\n",
              "      <td>20</td>\n",
              "      <td>Sugarcane</td>\n",
              "      <td>Urea</td>\n",
              "      <td>https://youtu.be/2t5Am0xLTOo</td>\n",
              "    </tr>\n",
              "    <tr>\n",
              "      <th>2</th>\n",
              "      <td>Kolhapur</td>\n",
              "      <td>Black</td>\n",
              "      <td>85</td>\n",
              "      <td>50</td>\n",
              "      <td>100</td>\n",
              "      <td>6.5</td>\n",
              "      <td>1000</td>\n",
              "      <td>20</td>\n",
              "      <td>Sugarcane</td>\n",
              "      <td>Urea</td>\n",
              "      <td>https://youtu.be/2t5Am0xLTOo</td>\n",
              "    </tr>\n",
              "    <tr>\n",
              "      <th>3</th>\n",
              "      <td>Kolhapur</td>\n",
              "      <td>Black</td>\n",
              "      <td>90</td>\n",
              "      <td>50</td>\n",
              "      <td>100</td>\n",
              "      <td>6.5</td>\n",
              "      <td>1000</td>\n",
              "      <td>20</td>\n",
              "      <td>Sugarcane</td>\n",
              "      <td>Urea</td>\n",
              "      <td>https://youtu.be/2t5Am0xLTOo</td>\n",
              "    </tr>\n",
              "    <tr>\n",
              "      <th>4</th>\n",
              "      <td>Kolhapur</td>\n",
              "      <td>Black</td>\n",
              "      <td>95</td>\n",
              "      <td>50</td>\n",
              "      <td>100</td>\n",
              "      <td>6.5</td>\n",
              "      <td>1000</td>\n",
              "      <td>20</td>\n",
              "      <td>Sugarcane</td>\n",
              "      <td>Urea</td>\n",
              "      <td>https://youtu.be/2t5Am0xLTOo</td>\n",
              "    </tr>\n",
              "  </tbody>\n",
              "</table>\n",
              "</div>"
            ],
            "text/plain": [
              "  District_Name Soil_color  Nitrogen  Phosphorus  Potassium   pH  Rainfall  \\\n",
              "0      Kolhapur      Black        75          50        100  6.5      1000   \n",
              "1      Kolhapur      Black        80          50        100  6.5      1000   \n",
              "2      Kolhapur      Black        85          50        100  6.5      1000   \n",
              "3      Kolhapur      Black        90          50        100  6.5      1000   \n",
              "4      Kolhapur      Black        95          50        100  6.5      1000   \n",
              "\n",
              "   Temperature       Crop Fertilizer                          Link  \n",
              "0           20  Sugarcane       Urea  https://youtu.be/2t5Am0xLTOo  \n",
              "1           20  Sugarcane       Urea  https://youtu.be/2t5Am0xLTOo  \n",
              "2           20  Sugarcane       Urea  https://youtu.be/2t5Am0xLTOo  \n",
              "3           20  Sugarcane       Urea  https://youtu.be/2t5Am0xLTOo  \n",
              "4           20  Sugarcane       Urea  https://youtu.be/2t5Am0xLTOo  "
            ]
          },
          "execution_count": 3,
          "metadata": {},
          "output_type": "execute_result"
        }
      ],
      "source": [
        "data = pd.read_csv(\"Datasets\\\\Crop and fertilizer dataset.csv\")\n",
        "# data = data.drop(columns = [\"Crop Type\",\"Soil Type\"], axis = 1)\n",
        "data.head()"
      ]
    },
    {
      "cell_type": "code",
      "execution_count": 4,
      "metadata": {},
      "outputs": [
        {
          "name": "stdout",
          "output_type": "stream",
          "text": [
            "   temperature   N    K   P fertilizer\n",
            "0           20  75  100  50       Urea\n",
            "1           20  80  100  50       Urea\n",
            "2           20  85  100  50       Urea\n",
            "3           20  90  100  50       Urea\n",
            "4           20  95  100  50       Urea\n",
            "fertilizer\n",
            "Urea                      1364\n",
            "DAP                        667\n",
            "MOP                        571\n",
            "19:19:19 NPK               480\n",
            "SSP                        417\n",
            "Magnesium Sulphate         215\n",
            "10:26:26 NPK               156\n",
            "50:26:26 NPK               124\n",
            "Chilated Micronutrient     108\n",
            "12:32:16 NPK               106\n",
            "Ferrous Sulphate            68\n",
            "13:32:26 NPK                66\n",
            "10:10:10 NPK                50\n",
            "Ammonium Sulphate           50\n",
            "Hydrated Lime               25\n",
            "White Potash                19\n",
            "20:20:20 NPK                15\n",
            "Sulphur                      6\n",
            "18:46:00 NPK                 6\n",
            "Name: count, dtype: int64\n"
          ]
        }
      ],
      "source": [
        "new_column_names = {\n",
        "    'Nitrogen': 'N',\n",
        "    'Potassium': 'K',\n",
        "    'Phosphorus': 'P',\n",
        "    'Temperature': 'temperature',\n",
        "    'Fertilizer': 'fertilizer'\n",
        "}\n",
        "\n",
        "data.rename(columns = new_column_names, inplace = True)\n",
        "\n",
        "data = data.reindex(columns = ['temperature', 'N', 'K', 'P', 'fertilizer'])\n",
        "print(data.head())\n",
        "print(data.value_counts('fertilizer'))"
      ]
    },
    {
      "cell_type": "code",
      "execution_count": 5,
      "metadata": {},
      "outputs": [
        {
          "data": {
            "text/plain": [
              "Index(['temperature', 'N', 'K', 'P', 'fertilizer'], dtype='object')"
            ]
          },
          "execution_count": 5,
          "metadata": {},
          "output_type": "execute_result"
        }
      ],
      "source": [
        "data.columns"
      ]
    },
    {
      "cell_type": "code",
      "execution_count": 6,
      "metadata": {
        "colab": {
          "base_uri": "https://localhost:8080/",
          "height": 206
        },
        "id": "cQLnv7gMzGw6",
        "outputId": "5168d747-cb69-49bb-9bfa-884e05640fe4"
      },
      "outputs": [
        {
          "data": {
            "text/html": [
              "<div>\n",
              "<style scoped>\n",
              "    .dataframe tbody tr th:only-of-type {\n",
              "        vertical-align: middle;\n",
              "    }\n",
              "\n",
              "    .dataframe tbody tr th {\n",
              "        vertical-align: top;\n",
              "    }\n",
              "\n",
              "    .dataframe thead th {\n",
              "        text-align: right;\n",
              "    }\n",
              "</style>\n",
              "<table border=\"1\" class=\"dataframe\">\n",
              "  <thead>\n",
              "    <tr style=\"text-align: right;\">\n",
              "      <th></th>\n",
              "      <th>N</th>\n",
              "      <th>K</th>\n",
              "      <th>P</th>\n",
              "      <th>temperature</th>\n",
              "    </tr>\n",
              "  </thead>\n",
              "  <tbody>\n",
              "    <tr>\n",
              "      <th>0</th>\n",
              "      <td>75</td>\n",
              "      <td>100</td>\n",
              "      <td>50</td>\n",
              "      <td>20</td>\n",
              "    </tr>\n",
              "    <tr>\n",
              "      <th>1</th>\n",
              "      <td>80</td>\n",
              "      <td>100</td>\n",
              "      <td>50</td>\n",
              "      <td>20</td>\n",
              "    </tr>\n",
              "    <tr>\n",
              "      <th>2</th>\n",
              "      <td>85</td>\n",
              "      <td>100</td>\n",
              "      <td>50</td>\n",
              "      <td>20</td>\n",
              "    </tr>\n",
              "    <tr>\n",
              "      <th>3</th>\n",
              "      <td>90</td>\n",
              "      <td>100</td>\n",
              "      <td>50</td>\n",
              "      <td>20</td>\n",
              "    </tr>\n",
              "    <tr>\n",
              "      <th>4</th>\n",
              "      <td>95</td>\n",
              "      <td>100</td>\n",
              "      <td>50</td>\n",
              "      <td>20</td>\n",
              "    </tr>\n",
              "  </tbody>\n",
              "</table>\n",
              "</div>"
            ],
            "text/plain": [
              "    N    K   P  temperature\n",
              "0  75  100  50           20\n",
              "1  80  100  50           20\n",
              "2  85  100  50           20\n",
              "3  90  100  50           20\n",
              "4  95  100  50           20"
            ]
          },
          "execution_count": 6,
          "metadata": {},
          "output_type": "execute_result"
        }
      ],
      "source": [
        "features = ['N', 'K', 'P', 'temperature']\n",
        "\n",
        "X = data[features]\n",
        "X.head()"
      ]
    },
    {
      "cell_type": "code",
      "execution_count": 7,
      "metadata": {
        "colab": {
          "base_uri": "https://localhost:8080/"
        },
        "id": "jiPmMfbbzV4E",
        "outputId": "84681758-9599-4818-82a5-d0bdd6559139"
      },
      "outputs": [
        {
          "data": {
            "text/plain": [
              "array([[-0.5363069 ,  1.02008727, -0.26234803, -1.00313047],\n",
              "       [-0.40492307,  1.02008727, -0.26234803, -1.00313047],\n",
              "       [-0.27353923,  1.02008727, -0.26234803, -1.00313047],\n",
              "       ...,\n",
              "       [ 1.17168299,  2.42112012,  1.55032358,  0.6927406 ],\n",
              "       [ 1.30306682,  2.42112012,  1.55032358,  0.6927406 ],\n",
              "       [ 1.43445066,  2.42112012,  1.55032358,  0.6927406 ]])"
            ]
          },
          "execution_count": 7,
          "metadata": {},
          "output_type": "execute_result"
        }
      ],
      "source": [
        "scaler = StandardScaler()\n",
        "X_scaled = scaler.fit_transform(X)\n",
        "X_scaled"
      ]
    },
    {
      "cell_type": "code",
      "execution_count": 8,
      "metadata": {
        "colab": {
          "base_uri": "https://localhost:8080/"
        },
        "id": "AuS-jPaSz1YI",
        "outputId": "870d1899-7b3e-49b0-c4f6-1140ffde5e42"
      },
      "outputs": [
        {
          "data": {
            "text/plain": [
              "array([[ 0.09465764, -0.8541516 ,  1.27884329, -0.17124596],\n",
              "       [ 0.17250667, -0.85588121,  1.22935262, -0.07771028],\n",
              "       [ 0.25035569, -0.85761082,  1.17986196,  0.01582541],\n",
              "       ...,\n",
              "       [ 2.93171412,  0.81906803,  0.86550109, -0.32116071],\n",
              "       [ 3.00956314,  0.81733842,  0.81601042, -0.22762503],\n",
              "       [ 3.08741217,  0.81560882,  0.76651976, -0.13408934]])"
            ]
          },
          "execution_count": 8,
          "metadata": {},
          "output_type": "execute_result"
        }
      ],
      "source": [
        "pca = PCA(n_components = len(features))\n",
        "X_pca = pca.fit_transform(X_scaled)\n",
        "X_pca"
      ]
    },
    {
      "cell_type": "code",
      "execution_count": 9,
      "metadata": {
        "colab": {
          "base_uri": "https://localhost:8080/"
        },
        "id": "xhm510xO0OlO",
        "outputId": "40be0d7d-3dff-4393-fd2e-7caece267369"
      },
      "outputs": [
        {
          "data": {
            "text/plain": [
              "array([0.5618533 , 0.25259292, 0.11331181, 0.07224197])"
            ]
          },
          "execution_count": 9,
          "metadata": {},
          "output_type": "execute_result"
        }
      ],
      "source": [
        "explained_variance_ratio = pca.explained_variance_ratio_\n",
        "explained_variance_ratio"
      ]
    },
    {
      "cell_type": "code",
      "execution_count": 10,
      "metadata": {
        "colab": {
          "base_uri": "https://localhost:8080/"
        },
        "id": "iRB3DTEC0bvm",
        "outputId": "b7f30aa3-ab33-4c7c-9efc-0cc83a5d62be"
      },
      "outputs": [
        {
          "data": {
            "text/plain": [
              "array([[ 0.59253122,  0.54861785,  0.58980407, -0.00750857],\n",
              "       [-0.01316454,  0.11035481, -0.07680937,  0.99083239],\n",
              "       [-0.37668761,  0.82860092, -0.39393743, -0.12782899],\n",
              "       [ 0.71192689, -0.01614875, -0.70074588, -0.04306436]])"
            ]
          },
          "execution_count": 10,
          "metadata": {},
          "output_type": "execute_result"
        }
      ],
      "source": [
        "eigenvectors = pca.components_\n",
        "eigenvectors"
      ]
    },
    {
      "cell_type": "code",
      "execution_count": 11,
      "metadata": {
        "colab": {
          "base_uri": "https://localhost:8080/"
        },
        "id": "yfezB31t78TM",
        "outputId": "05d68194-cb56-476a-e3fa-68f17183fb01"
      },
      "outputs": [
        {
          "data": {
            "text/plain": [
              "array([0.33833819, 0.42884125, 0.21672084, 0.22846294])"
            ]
          },
          "execution_count": 11,
          "metadata": {},
          "output_type": "execute_result"
        }
      ],
      "source": [
        "weights = eigenvectors[0] * explained_variance_ratio[0]\n",
        "for i in range(1, len(features)):\n",
        "  weights += eigenvectors[i] * explained_variance_ratio[i]\n",
        "weights"
      ]
    },
    {
      "cell_type": "code",
      "execution_count": 12,
      "metadata": {
        "colab": {
          "base_uri": "https://localhost:8080/"
        },
        "id": "llQjJee-8TW-",
        "outputId": "5ff45d0b-8890-4652-9e1c-8244e5de0737"
      },
      "outputs": [
        {
          "data": {
            "text/plain": [
              "array([0.27907329, 0.35372341, 0.178759  , 0.1884443 ])"
            ]
          },
          "execution_count": 12,
          "metadata": {},
          "output_type": "execute_result"
        }
      ],
      "source": [
        "weights /= weights.sum()\n",
        "weights"
      ]
    },
    {
      "cell_type": "code",
      "execution_count": 13,
      "metadata": {
        "id": "chg6SUKe8ZHU"
      },
      "outputs": [],
      "source": [
        "def calculate_sqi(X_scaled, weights):\n",
        "  return (X_scaled * weights).sum(axis = 1)"
      ]
    },
    {
      "cell_type": "code",
      "execution_count": 14,
      "metadata": {
        "colab": {
          "base_uri": "https://localhost:8080/"
        },
        "id": "9sPy8S3L8lG5",
        "outputId": "827db8c3-f966-4f87-a0d8-b503144a0fa3"
      },
      "outputs": [
        {
          "data": {
            "text/plain": [
              "array([-0.02477149,  0.01189423,  0.04855995, ...,  1.59106959,\n",
              "        1.62773531,  1.66440103])"
            ]
          },
          "execution_count": 14,
          "metadata": {},
          "output_type": "execute_result"
        }
      ],
      "source": [
        "sqi= calculate_sqi(X_scaled, weights)\n",
        "sqi"
      ]
    },
    {
      "cell_type": "code",
      "execution_count": 15,
      "metadata": {
        "colab": {
          "base_uri": "https://localhost:8080/"
        },
        "id": "8FnH_LVM8que",
        "outputId": "e9c17bec-45c3-4fb4-a442-32d92c421d9e"
      },
      "outputs": [
        {
          "data": {
            "text/plain": [
              "array([[0.47271634],\n",
              "       [0.48343409],\n",
              "       [0.49415185],\n",
              "       ...,\n",
              "       [0.94504289],\n",
              "       [0.95576065],\n",
              "       [0.9664784 ]])"
            ]
          },
          "execution_count": 15,
          "metadata": {},
          "output_type": "execute_result"
        }
      ],
      "source": [
        "minmax = MinMaxScaler()\n",
        "sqi_scaled = minmax.fit_transform(sqi.reshape(-1, 1))\n",
        "sqi_scaled"
      ]
    },
    {
      "cell_type": "code",
      "execution_count": 16,
      "metadata": {
        "colab": {
          "base_uri": "https://localhost:8080/",
          "height": 206
        },
        "id": "Jg6eqH6y862F",
        "outputId": "f5fe3141-ae61-4798-f08e-4415ca80a182"
      },
      "outputs": [
        {
          "data": {
            "text/html": [
              "<div>\n",
              "<style scoped>\n",
              "    .dataframe tbody tr th:only-of-type {\n",
              "        vertical-align: middle;\n",
              "    }\n",
              "\n",
              "    .dataframe tbody tr th {\n",
              "        vertical-align: top;\n",
              "    }\n",
              "\n",
              "    .dataframe thead th {\n",
              "        text-align: right;\n",
              "    }\n",
              "</style>\n",
              "<table border=\"1\" class=\"dataframe\">\n",
              "  <thead>\n",
              "    <tr style=\"text-align: right;\">\n",
              "      <th></th>\n",
              "      <th>temperature</th>\n",
              "      <th>N</th>\n",
              "      <th>K</th>\n",
              "      <th>P</th>\n",
              "      <th>fertilizer</th>\n",
              "      <th>SQI</th>\n",
              "    </tr>\n",
              "  </thead>\n",
              "  <tbody>\n",
              "    <tr>\n",
              "      <th>0</th>\n",
              "      <td>20</td>\n",
              "      <td>75</td>\n",
              "      <td>100</td>\n",
              "      <td>50</td>\n",
              "      <td>Urea</td>\n",
              "      <td>0.472716</td>\n",
              "    </tr>\n",
              "    <tr>\n",
              "      <th>1</th>\n",
              "      <td>20</td>\n",
              "      <td>80</td>\n",
              "      <td>100</td>\n",
              "      <td>50</td>\n",
              "      <td>Urea</td>\n",
              "      <td>0.483434</td>\n",
              "    </tr>\n",
              "    <tr>\n",
              "      <th>2</th>\n",
              "      <td>20</td>\n",
              "      <td>85</td>\n",
              "      <td>100</td>\n",
              "      <td>50</td>\n",
              "      <td>Urea</td>\n",
              "      <td>0.494152</td>\n",
              "    </tr>\n",
              "    <tr>\n",
              "      <th>3</th>\n",
              "      <td>20</td>\n",
              "      <td>90</td>\n",
              "      <td>100</td>\n",
              "      <td>50</td>\n",
              "      <td>Urea</td>\n",
              "      <td>0.504870</td>\n",
              "    </tr>\n",
              "    <tr>\n",
              "      <th>4</th>\n",
              "      <td>20</td>\n",
              "      <td>95</td>\n",
              "      <td>100</td>\n",
              "      <td>50</td>\n",
              "      <td>Urea</td>\n",
              "      <td>0.515587</td>\n",
              "    </tr>\n",
              "  </tbody>\n",
              "</table>\n",
              "</div>"
            ],
            "text/plain": [
              "   temperature   N    K   P fertilizer       SQI\n",
              "0           20  75  100  50       Urea  0.472716\n",
              "1           20  80  100  50       Urea  0.483434\n",
              "2           20  85  100  50       Urea  0.494152\n",
              "3           20  90  100  50       Urea  0.504870\n",
              "4           20  95  100  50       Urea  0.515587"
            ]
          },
          "execution_count": 16,
          "metadata": {},
          "output_type": "execute_result"
        }
      ],
      "source": [
        "data['SQI'] = sqi_scaled\n",
        "data.head()"
      ]
    },
    {
      "cell_type": "code",
      "execution_count": 17,
      "metadata": {
        "colab": {
          "base_uri": "https://localhost:8080/"
        },
        "id": "0BXHB-nq_pda",
        "outputId": "623093a8-7870-4698-b708-4c231781ca71"
      },
      "outputs": [
        {
          "name": "stdout",
          "output_type": "stream",
          "text": [
            "0.0\n",
            "0.9999999999999999\n"
          ]
        }
      ],
      "source": [
        "print(min(data['SQI']))\n",
        "print(max(data['SQI']))"
      ]
    },
    {
      "cell_type": "code",
      "execution_count": 18,
      "metadata": {},
      "outputs": [
        {
          "data": {
            "text/html": [
              "<div>\n",
              "<style scoped>\n",
              "    .dataframe tbody tr th:only-of-type {\n",
              "        vertical-align: middle;\n",
              "    }\n",
              "\n",
              "    .dataframe tbody tr th {\n",
              "        vertical-align: top;\n",
              "    }\n",
              "\n",
              "    .dataframe thead th {\n",
              "        text-align: right;\n",
              "    }\n",
              "</style>\n",
              "<table border=\"1\" class=\"dataframe\">\n",
              "  <thead>\n",
              "    <tr style=\"text-align: right;\">\n",
              "      <th></th>\n",
              "      <th>Nitrogen</th>\n",
              "      <th>Phosphorus</th>\n",
              "      <th>Potassium</th>\n",
              "      <th>Temperature</th>\n",
              "      <th>Fertilizer</th>\n",
              "    </tr>\n",
              "  </thead>\n",
              "  <tbody>\n",
              "    <tr>\n",
              "      <th>0</th>\n",
              "      <td>75</td>\n",
              "      <td>50</td>\n",
              "      <td>100</td>\n",
              "      <td>20</td>\n",
              "      <td>Urea</td>\n",
              "    </tr>\n",
              "    <tr>\n",
              "      <th>1</th>\n",
              "      <td>80</td>\n",
              "      <td>50</td>\n",
              "      <td>100</td>\n",
              "      <td>20</td>\n",
              "      <td>Urea</td>\n",
              "    </tr>\n",
              "    <tr>\n",
              "      <th>2</th>\n",
              "      <td>85</td>\n",
              "      <td>50</td>\n",
              "      <td>100</td>\n",
              "      <td>20</td>\n",
              "      <td>Urea</td>\n",
              "    </tr>\n",
              "    <tr>\n",
              "      <th>3</th>\n",
              "      <td>90</td>\n",
              "      <td>50</td>\n",
              "      <td>100</td>\n",
              "      <td>20</td>\n",
              "      <td>Urea</td>\n",
              "    </tr>\n",
              "    <tr>\n",
              "      <th>4</th>\n",
              "      <td>95</td>\n",
              "      <td>50</td>\n",
              "      <td>100</td>\n",
              "      <td>20</td>\n",
              "      <td>Urea</td>\n",
              "    </tr>\n",
              "  </tbody>\n",
              "</table>\n",
              "</div>"
            ],
            "text/plain": [
              "   Nitrogen  Phosphorus  Potassium  Temperature Fertilizer\n",
              "0        75          50        100           20       Urea\n",
              "1        80          50        100           20       Urea\n",
              "2        85          50        100           20       Urea\n",
              "3        90          50        100           20       Urea\n",
              "4        95          50        100           20       Urea"
            ]
          },
          "execution_count": 18,
          "metadata": {},
          "output_type": "execute_result"
        }
      ],
      "source": [
        "fert_data = pd.read_csv('Datasets\\\\Crop and fertilizer dataset.csv')\n",
        "fert_data = fert_data.drop(columns = ['District_Name', 'Soil_color', 'pH', 'Rainfall', 'Crop', 'Link'])\n",
        "fert_data.head()"
      ]
    },
    {
      "cell_type": "code",
      "execution_count": 19,
      "metadata": {
        "colab": {
          "base_uri": "https://localhost:8080/"
        },
        "id": "GJZH3AtltvQh",
        "outputId": "08ee66d6-cc7c-46cf-fed3-cf1039b37b5a"
      },
      "outputs": [
        {
          "name": "stdout",
          "output_type": "stream",
          "text": [
            "   temperature   N    K   P fertilizer\n",
            "0           20  75  100  50       Urea\n",
            "1           20  80  100  50       Urea\n",
            "2           20  85  100  50       Urea\n",
            "3           20  90  100  50       Urea\n",
            "4           20  95  100  50       Urea\n",
            "fertilizer\n",
            "Urea                      1364\n",
            "DAP                        667\n",
            "MOP                        571\n",
            "19:19:19 NPK               480\n",
            "SSP                        417\n",
            "Magnesium Sulphate         215\n",
            "10:26:26 NPK               156\n",
            "50:26:26 NPK               124\n",
            "Chilated Micronutrient     108\n",
            "12:32:16 NPK               106\n",
            "Ferrous Sulphate            68\n",
            "13:32:26 NPK                66\n",
            "10:10:10 NPK                50\n",
            "Ammonium Sulphate           50\n",
            "Hydrated Lime               25\n",
            "White Potash                19\n",
            "20:20:20 NPK                15\n",
            "Sulphur                      6\n",
            "18:46:00 NPK                 6\n",
            "Name: count, dtype: int64\n"
          ]
        }
      ],
      "source": [
        "new_column_names = {\n",
        "    'Nitrogen': 'N',\n",
        "    'Potassium': 'K',\n",
        "    'Phosphorus': 'P',\n",
        "    'Temperature': 'temperature',\n",
        "    'Fertilizer': 'fertilizer'\n",
        "}\n",
        "\n",
        "fert_data.rename(columns = new_column_names, inplace = True)\n",
        "\n",
        "fert_data = fert_data.reindex(columns = ['temperature', 'N', 'K', 'P', 'fertilizer'])\n",
        "print(fert_data.head())\n",
        "print(fert_data.value_counts('fertilizer'))"
      ]
    },
    {
      "cell_type": "code",
      "execution_count": 20,
      "metadata": {
        "colab": {
          "base_uri": "https://localhost:8080/"
        },
        "id": "Qi-WV6F1ugqp",
        "outputId": "c9b6f618-ffd5-4c2e-c463-9b327b933aa0"
      },
      "outputs": [
        {
          "name": "stdout",
          "output_type": "stream",
          "text": [
            "   temperature   N    K   P fertilizer\n",
            "0           20  75  100  50       Urea\n",
            "1           20  80  100  50       Urea\n",
            "2           20  85  100  50       Urea\n",
            "3           20  90  100  50       Urea\n",
            "4           20  95  100  50       Urea\n",
            "fertilizer\n",
            "10:10:10 NPK              1364\n",
            "DAP                       1364\n",
            "Urea                      1364\n",
            "Sulphur                   1364\n",
            "SSP                       1364\n",
            "Magnesium Sulphate        1364\n",
            "MOP                       1364\n",
            "Hydrated Lime             1364\n",
            "Ferrous Sulphate          1364\n",
            "Chilated Micronutrient    1364\n",
            "10:26:26 NPK              1364\n",
            "Ammonium Sulphate         1364\n",
            "50:26:26 NPK              1364\n",
            "20:20:20 NPK              1364\n",
            "19:19:19 NPK              1364\n",
            "18:46:00 NPK              1364\n",
            "13:32:26 NPK              1364\n",
            "12:32:16 NPK              1364\n",
            "White Potash              1364\n",
            "Name: count, dtype: int64\n"
          ]
        }
      ],
      "source": [
        "from imblearn.over_sampling import SMOTE\n",
        "# from google.colab import files\n",
        "\n",
        "X = fert_data.drop(columns = ['fertilizer'], axis = 1)\n",
        "y = fert_data['fertilizer']\n",
        "\n",
        "smote = SMOTE(random_state = 42)\n",
        "X_resampled, y_resampled = smote.fit_resample(X, y)\n",
        "\n",
        "df_resampled = pd.concat([pd.DataFrame(X_resampled, columns = X.columns), pd.Series(y_resampled, name = 'fertilizer')], axis = 1)\n",
        "print(df_resampled.head())\n",
        "print(df_resampled.value_counts('fertilizer'))\n",
        "# df_resampled.to_csv('New Crop Dataset.csv', index = False)\n",
        "# files.download('New Crop Dataset.csv')"
      ]
    },
    {
      "cell_type": "code",
      "execution_count": 21,
      "metadata": {
        "id": "HHCoKm8kxJkF"
      },
      "outputs": [],
      "source": [
        "X = df_resampled.drop(\"fertilizer\", axis = 1)\n",
        "Y = df_resampled[\"fertilizer\"]\n",
        "\n",
        "from sklearn.model_selection import train_test_split\n",
        "X_train, X_test, Y_train, Y_test = train_test_split(X, Y, test_size = 0.2, random_state = 42)"
      ]
    },
    {
      "cell_type": "code",
      "execution_count": 22,
      "metadata": {
        "colab": {
          "base_uri": "https://localhost:8080/",
          "height": 75
        },
        "id": "pOS6_Ut9y3Kr",
        "outputId": "1470bca6-a10f-49f0-8157-5955297d949c"
      },
      "outputs": [
        {
          "data": {
            "text/html": [
              "<style>#sk-container-id-1 {\n",
              "  /* Definition of color scheme common for light and dark mode */\n",
              "  --sklearn-color-text: black;\n",
              "  --sklearn-color-line: gray;\n",
              "  /* Definition of color scheme for unfitted estimators */\n",
              "  --sklearn-color-unfitted-level-0: #fff5e6;\n",
              "  --sklearn-color-unfitted-level-1: #f6e4d2;\n",
              "  --sklearn-color-unfitted-level-2: #ffe0b3;\n",
              "  --sklearn-color-unfitted-level-3: chocolate;\n",
              "  /* Definition of color scheme for fitted estimators */\n",
              "  --sklearn-color-fitted-level-0: #f0f8ff;\n",
              "  --sklearn-color-fitted-level-1: #d4ebff;\n",
              "  --sklearn-color-fitted-level-2: #b3dbfd;\n",
              "  --sklearn-color-fitted-level-3: cornflowerblue;\n",
              "\n",
              "  /* Specific color for light theme */\n",
              "  --sklearn-color-text-on-default-background: var(--sg-text-color, var(--theme-code-foreground, var(--jp-content-font-color1, black)));\n",
              "  --sklearn-color-background: var(--sg-background-color, var(--theme-background, var(--jp-layout-color0, white)));\n",
              "  --sklearn-color-border-box: var(--sg-text-color, var(--theme-code-foreground, var(--jp-content-font-color1, black)));\n",
              "  --sklearn-color-icon: #696969;\n",
              "\n",
              "  @media (prefers-color-scheme: dark) {\n",
              "    /* Redefinition of color scheme for dark theme */\n",
              "    --sklearn-color-text-on-default-background: var(--sg-text-color, var(--theme-code-foreground, var(--jp-content-font-color1, white)));\n",
              "    --sklearn-color-background: var(--sg-background-color, var(--theme-background, var(--jp-layout-color0, #111)));\n",
              "    --sklearn-color-border-box: var(--sg-text-color, var(--theme-code-foreground, var(--jp-content-font-color1, white)));\n",
              "    --sklearn-color-icon: #878787;\n",
              "  }\n",
              "}\n",
              "\n",
              "#sk-container-id-1 {\n",
              "  color: var(--sklearn-color-text);\n",
              "}\n",
              "\n",
              "#sk-container-id-1 pre {\n",
              "  padding: 0;\n",
              "}\n",
              "\n",
              "#sk-container-id-1 input.sk-hidden--visually {\n",
              "  border: 0;\n",
              "  clip: rect(1px 1px 1px 1px);\n",
              "  clip: rect(1px, 1px, 1px, 1px);\n",
              "  height: 1px;\n",
              "  margin: -1px;\n",
              "  overflow: hidden;\n",
              "  padding: 0;\n",
              "  position: absolute;\n",
              "  width: 1px;\n",
              "}\n",
              "\n",
              "#sk-container-id-1 div.sk-dashed-wrapped {\n",
              "  border: 1px dashed var(--sklearn-color-line);\n",
              "  margin: 0 0.4em 0.5em 0.4em;\n",
              "  box-sizing: border-box;\n",
              "  padding-bottom: 0.4em;\n",
              "  background-color: var(--sklearn-color-background);\n",
              "}\n",
              "\n",
              "#sk-container-id-1 div.sk-container {\n",
              "  /* jupyter's `normalize.less` sets `[hidden] { display: none; }`\n",
              "     but bootstrap.min.css set `[hidden] { display: none !important; }`\n",
              "     so we also need the `!important` here to be able to override the\n",
              "     default hidden behavior on the sphinx rendered scikit-learn.org.\n",
              "     See: https://github.com/scikit-learn/scikit-learn/issues/21755 */\n",
              "  display: inline-block !important;\n",
              "  position: relative;\n",
              "}\n",
              "\n",
              "#sk-container-id-1 div.sk-text-repr-fallback {\n",
              "  display: none;\n",
              "}\n",
              "\n",
              "div.sk-parallel-item,\n",
              "div.sk-serial,\n",
              "div.sk-item {\n",
              "  /* draw centered vertical line to link estimators */\n",
              "  background-image: linear-gradient(var(--sklearn-color-text-on-default-background), var(--sklearn-color-text-on-default-background));\n",
              "  background-size: 2px 100%;\n",
              "  background-repeat: no-repeat;\n",
              "  background-position: center center;\n",
              "}\n",
              "\n",
              "/* Parallel-specific style estimator block */\n",
              "\n",
              "#sk-container-id-1 div.sk-parallel-item::after {\n",
              "  content: \"\";\n",
              "  width: 100%;\n",
              "  border-bottom: 2px solid var(--sklearn-color-text-on-default-background);\n",
              "  flex-grow: 1;\n",
              "}\n",
              "\n",
              "#sk-container-id-1 div.sk-parallel {\n",
              "  display: flex;\n",
              "  align-items: stretch;\n",
              "  justify-content: center;\n",
              "  background-color: var(--sklearn-color-background);\n",
              "  position: relative;\n",
              "}\n",
              "\n",
              "#sk-container-id-1 div.sk-parallel-item {\n",
              "  display: flex;\n",
              "  flex-direction: column;\n",
              "}\n",
              "\n",
              "#sk-container-id-1 div.sk-parallel-item:first-child::after {\n",
              "  align-self: flex-end;\n",
              "  width: 50%;\n",
              "}\n",
              "\n",
              "#sk-container-id-1 div.sk-parallel-item:last-child::after {\n",
              "  align-self: flex-start;\n",
              "  width: 50%;\n",
              "}\n",
              "\n",
              "#sk-container-id-1 div.sk-parallel-item:only-child::after {\n",
              "  width: 0;\n",
              "}\n",
              "\n",
              "/* Serial-specific style estimator block */\n",
              "\n",
              "#sk-container-id-1 div.sk-serial {\n",
              "  display: flex;\n",
              "  flex-direction: column;\n",
              "  align-items: center;\n",
              "  background-color: var(--sklearn-color-background);\n",
              "  padding-right: 1em;\n",
              "  padding-left: 1em;\n",
              "}\n",
              "\n",
              "\n",
              "/* Toggleable style: style used for estimator/Pipeline/ColumnTransformer box that is\n",
              "clickable and can be expanded/collapsed.\n",
              "- Pipeline and ColumnTransformer use this feature and define the default style\n",
              "- Estimators will overwrite some part of the style using the `sk-estimator` class\n",
              "*/\n",
              "\n",
              "/* Pipeline and ColumnTransformer style (default) */\n",
              "\n",
              "#sk-container-id-1 div.sk-toggleable {\n",
              "  /* Default theme specific background. It is overwritten whether we have a\n",
              "  specific estimator or a Pipeline/ColumnTransformer */\n",
              "  background-color: var(--sklearn-color-background);\n",
              "}\n",
              "\n",
              "/* Toggleable label */\n",
              "#sk-container-id-1 label.sk-toggleable__label {\n",
              "  cursor: pointer;\n",
              "  display: block;\n",
              "  width: 100%;\n",
              "  margin-bottom: 0;\n",
              "  padding: 0.5em;\n",
              "  box-sizing: border-box;\n",
              "  text-align: center;\n",
              "}\n",
              "\n",
              "#sk-container-id-1 label.sk-toggleable__label-arrow:before {\n",
              "  /* Arrow on the left of the label */\n",
              "  content: \"▸\";\n",
              "  float: left;\n",
              "  margin-right: 0.25em;\n",
              "  color: var(--sklearn-color-icon);\n",
              "}\n",
              "\n",
              "#sk-container-id-1 label.sk-toggleable__label-arrow:hover:before {\n",
              "  color: var(--sklearn-color-text);\n",
              "}\n",
              "\n",
              "/* Toggleable content - dropdown */\n",
              "\n",
              "#sk-container-id-1 div.sk-toggleable__content {\n",
              "  max-height: 0;\n",
              "  max-width: 0;\n",
              "  overflow: hidden;\n",
              "  text-align: left;\n",
              "  /* unfitted */\n",
              "  background-color: var(--sklearn-color-unfitted-level-0);\n",
              "}\n",
              "\n",
              "#sk-container-id-1 div.sk-toggleable__content.fitted {\n",
              "  /* fitted */\n",
              "  background-color: var(--sklearn-color-fitted-level-0);\n",
              "}\n",
              "\n",
              "#sk-container-id-1 div.sk-toggleable__content pre {\n",
              "  margin: 0.2em;\n",
              "  border-radius: 0.25em;\n",
              "  color: var(--sklearn-color-text);\n",
              "  /* unfitted */\n",
              "  background-color: var(--sklearn-color-unfitted-level-0);\n",
              "}\n",
              "\n",
              "#sk-container-id-1 div.sk-toggleable__content.fitted pre {\n",
              "  /* unfitted */\n",
              "  background-color: var(--sklearn-color-fitted-level-0);\n",
              "}\n",
              "\n",
              "#sk-container-id-1 input.sk-toggleable__control:checked~div.sk-toggleable__content {\n",
              "  /* Expand drop-down */\n",
              "  max-height: 200px;\n",
              "  max-width: 100%;\n",
              "  overflow: auto;\n",
              "}\n",
              "\n",
              "#sk-container-id-1 input.sk-toggleable__control:checked~label.sk-toggleable__label-arrow:before {\n",
              "  content: \"▾\";\n",
              "}\n",
              "\n",
              "/* Pipeline/ColumnTransformer-specific style */\n",
              "\n",
              "#sk-container-id-1 div.sk-label input.sk-toggleable__control:checked~label.sk-toggleable__label {\n",
              "  color: var(--sklearn-color-text);\n",
              "  background-color: var(--sklearn-color-unfitted-level-2);\n",
              "}\n",
              "\n",
              "#sk-container-id-1 div.sk-label.fitted input.sk-toggleable__control:checked~label.sk-toggleable__label {\n",
              "  background-color: var(--sklearn-color-fitted-level-2);\n",
              "}\n",
              "\n",
              "/* Estimator-specific style */\n",
              "\n",
              "/* Colorize estimator box */\n",
              "#sk-container-id-1 div.sk-estimator input.sk-toggleable__control:checked~label.sk-toggleable__label {\n",
              "  /* unfitted */\n",
              "  background-color: var(--sklearn-color-unfitted-level-2);\n",
              "}\n",
              "\n",
              "#sk-container-id-1 div.sk-estimator.fitted input.sk-toggleable__control:checked~label.sk-toggleable__label {\n",
              "  /* fitted */\n",
              "  background-color: var(--sklearn-color-fitted-level-2);\n",
              "}\n",
              "\n",
              "#sk-container-id-1 div.sk-label label.sk-toggleable__label,\n",
              "#sk-container-id-1 div.sk-label label {\n",
              "  /* The background is the default theme color */\n",
              "  color: var(--sklearn-color-text-on-default-background);\n",
              "}\n",
              "\n",
              "/* On hover, darken the color of the background */\n",
              "#sk-container-id-1 div.sk-label:hover label.sk-toggleable__label {\n",
              "  color: var(--sklearn-color-text);\n",
              "  background-color: var(--sklearn-color-unfitted-level-2);\n",
              "}\n",
              "\n",
              "/* Label box, darken color on hover, fitted */\n",
              "#sk-container-id-1 div.sk-label.fitted:hover label.sk-toggleable__label.fitted {\n",
              "  color: var(--sklearn-color-text);\n",
              "  background-color: var(--sklearn-color-fitted-level-2);\n",
              "}\n",
              "\n",
              "/* Estimator label */\n",
              "\n",
              "#sk-container-id-1 div.sk-label label {\n",
              "  font-family: monospace;\n",
              "  font-weight: bold;\n",
              "  display: inline-block;\n",
              "  line-height: 1.2em;\n",
              "}\n",
              "\n",
              "#sk-container-id-1 div.sk-label-container {\n",
              "  text-align: center;\n",
              "}\n",
              "\n",
              "/* Estimator-specific */\n",
              "#sk-container-id-1 div.sk-estimator {\n",
              "  font-family: monospace;\n",
              "  border: 1px dotted var(--sklearn-color-border-box);\n",
              "  border-radius: 0.25em;\n",
              "  box-sizing: border-box;\n",
              "  margin-bottom: 0.5em;\n",
              "  /* unfitted */\n",
              "  background-color: var(--sklearn-color-unfitted-level-0);\n",
              "}\n",
              "\n",
              "#sk-container-id-1 div.sk-estimator.fitted {\n",
              "  /* fitted */\n",
              "  background-color: var(--sklearn-color-fitted-level-0);\n",
              "}\n",
              "\n",
              "/* on hover */\n",
              "#sk-container-id-1 div.sk-estimator:hover {\n",
              "  /* unfitted */\n",
              "  background-color: var(--sklearn-color-unfitted-level-2);\n",
              "}\n",
              "\n",
              "#sk-container-id-1 div.sk-estimator.fitted:hover {\n",
              "  /* fitted */\n",
              "  background-color: var(--sklearn-color-fitted-level-2);\n",
              "}\n",
              "\n",
              "/* Specification for estimator info (e.g. \"i\" and \"?\") */\n",
              "\n",
              "/* Common style for \"i\" and \"?\" */\n",
              "\n",
              ".sk-estimator-doc-link,\n",
              "a:link.sk-estimator-doc-link,\n",
              "a:visited.sk-estimator-doc-link {\n",
              "  float: right;\n",
              "  font-size: smaller;\n",
              "  line-height: 1em;\n",
              "  font-family: monospace;\n",
              "  background-color: var(--sklearn-color-background);\n",
              "  border-radius: 1em;\n",
              "  height: 1em;\n",
              "  width: 1em;\n",
              "  text-decoration: none !important;\n",
              "  margin-left: 1ex;\n",
              "  /* unfitted */\n",
              "  border: var(--sklearn-color-unfitted-level-1) 1pt solid;\n",
              "  color: var(--sklearn-color-unfitted-level-1);\n",
              "}\n",
              "\n",
              ".sk-estimator-doc-link.fitted,\n",
              "a:link.sk-estimator-doc-link.fitted,\n",
              "a:visited.sk-estimator-doc-link.fitted {\n",
              "  /* fitted */\n",
              "  border: var(--sklearn-color-fitted-level-1) 1pt solid;\n",
              "  color: var(--sklearn-color-fitted-level-1);\n",
              "}\n",
              "\n",
              "/* On hover */\n",
              "div.sk-estimator:hover .sk-estimator-doc-link:hover,\n",
              ".sk-estimator-doc-link:hover,\n",
              "div.sk-label-container:hover .sk-estimator-doc-link:hover,\n",
              ".sk-estimator-doc-link:hover {\n",
              "  /* unfitted */\n",
              "  background-color: var(--sklearn-color-unfitted-level-3);\n",
              "  color: var(--sklearn-color-background);\n",
              "  text-decoration: none;\n",
              "}\n",
              "\n",
              "div.sk-estimator.fitted:hover .sk-estimator-doc-link.fitted:hover,\n",
              ".sk-estimator-doc-link.fitted:hover,\n",
              "div.sk-label-container:hover .sk-estimator-doc-link.fitted:hover,\n",
              ".sk-estimator-doc-link.fitted:hover {\n",
              "  /* fitted */\n",
              "  background-color: var(--sklearn-color-fitted-level-3);\n",
              "  color: var(--sklearn-color-background);\n",
              "  text-decoration: none;\n",
              "}\n",
              "\n",
              "/* Span, style for the box shown on hovering the info icon */\n",
              ".sk-estimator-doc-link span {\n",
              "  display: none;\n",
              "  z-index: 9999;\n",
              "  position: relative;\n",
              "  font-weight: normal;\n",
              "  right: .2ex;\n",
              "  padding: .5ex;\n",
              "  margin: .5ex;\n",
              "  width: min-content;\n",
              "  min-width: 20ex;\n",
              "  max-width: 50ex;\n",
              "  color: var(--sklearn-color-text);\n",
              "  box-shadow: 2pt 2pt 4pt #999;\n",
              "  /* unfitted */\n",
              "  background: var(--sklearn-color-unfitted-level-0);\n",
              "  border: .5pt solid var(--sklearn-color-unfitted-level-3);\n",
              "}\n",
              "\n",
              ".sk-estimator-doc-link.fitted span {\n",
              "  /* fitted */\n",
              "  background: var(--sklearn-color-fitted-level-0);\n",
              "  border: var(--sklearn-color-fitted-level-3);\n",
              "}\n",
              "\n",
              ".sk-estimator-doc-link:hover span {\n",
              "  display: block;\n",
              "}\n",
              "\n",
              "/* \"?\"-specific style due to the `<a>` HTML tag */\n",
              "\n",
              "#sk-container-id-1 a.estimator_doc_link {\n",
              "  float: right;\n",
              "  font-size: 1rem;\n",
              "  line-height: 1em;\n",
              "  font-family: monospace;\n",
              "  background-color: var(--sklearn-color-background);\n",
              "  border-radius: 1rem;\n",
              "  height: 1rem;\n",
              "  width: 1rem;\n",
              "  text-decoration: none;\n",
              "  /* unfitted */\n",
              "  color: var(--sklearn-color-unfitted-level-1);\n",
              "  border: var(--sklearn-color-unfitted-level-1) 1pt solid;\n",
              "}\n",
              "\n",
              "#sk-container-id-1 a.estimator_doc_link.fitted {\n",
              "  /* fitted */\n",
              "  border: var(--sklearn-color-fitted-level-1) 1pt solid;\n",
              "  color: var(--sklearn-color-fitted-level-1);\n",
              "}\n",
              "\n",
              "/* On hover */\n",
              "#sk-container-id-1 a.estimator_doc_link:hover {\n",
              "  /* unfitted */\n",
              "  background-color: var(--sklearn-color-unfitted-level-3);\n",
              "  color: var(--sklearn-color-background);\n",
              "  text-decoration: none;\n",
              "}\n",
              "\n",
              "#sk-container-id-1 a.estimator_doc_link.fitted:hover {\n",
              "  /* fitted */\n",
              "  background-color: var(--sklearn-color-fitted-level-3);\n",
              "}\n",
              "</style><div id=\"sk-container-id-1\" class=\"sk-top-container\"><div class=\"sk-text-repr-fallback\"><pre>ExtraTreesClassifier(random_state=42)</pre><b>In a Jupyter environment, please rerun this cell to show the HTML representation or trust the notebook. <br />On GitHub, the HTML representation is unable to render, please try loading this page with nbviewer.org.</b></div><div class=\"sk-container\" hidden><div class=\"sk-item\"><div class=\"sk-estimator fitted sk-toggleable\"><input class=\"sk-toggleable__control sk-hidden--visually\" id=\"sk-estimator-id-1\" type=\"checkbox\" checked><label for=\"sk-estimator-id-1\" class=\"sk-toggleable__label fitted sk-toggleable__label-arrow fitted\">&nbsp;&nbsp;ExtraTreesClassifier<a class=\"sk-estimator-doc-link fitted\" rel=\"noreferrer\" target=\"_blank\" href=\"https://scikit-learn.org/1.5/modules/generated/sklearn.ensemble.ExtraTreesClassifier.html\">?<span>Documentation for ExtraTreesClassifier</span></a><span class=\"sk-estimator-doc-link fitted\">i<span>Fitted</span></span></label><div class=\"sk-toggleable__content fitted\"><pre>ExtraTreesClassifier(random_state=42)</pre></div> </div></div></div></div>"
            ],
            "text/plain": [
              "ExtraTreesClassifier(random_state=42)"
            ]
          },
          "execution_count": 22,
          "metadata": {},
          "output_type": "execute_result"
        }
      ],
      "source": [
        "from sklearn.ensemble import ExtraTreesClassifier\n",
        "\n",
        "model = ExtraTreesClassifier(n_estimators = 100, random_state = 42)\n",
        "model.fit(X_train, Y_train)"
      ]
    },
    {
      "cell_type": "code",
      "execution_count": 23,
      "metadata": {
        "colab": {
          "base_uri": "https://localhost:8080/"
        },
        "id": "QNZFLh2n3Wkw",
        "outputId": "532e3cdd-09dc-4287-979e-f030c9d86058"
      },
      "outputs": [
        {
          "name": "stdout",
          "output_type": "stream",
          "text": [
            "                        precision    recall  f1-score   support\n",
            "\n",
            "          10:10:10 NPK       1.00      0.99      0.99       260\n",
            "          10:26:26 NPK       0.88      0.91      0.90       283\n",
            "          12:32:16 NPK       0.93      0.98      0.96       284\n",
            "          13:32:26 NPK       0.98      1.00      0.99       282\n",
            "          18:46:00 NPK       0.94      0.91      0.93       281\n",
            "          19:19:19 NPK       0.83      0.84      0.84       271\n",
            "          20:20:20 NPK       1.00      0.99      1.00       287\n",
            "          50:26:26 NPK       0.87      0.91      0.89       259\n",
            "     Ammonium Sulphate       0.99      1.00      0.99       274\n",
            "Chilated Micronutrient       0.89      0.96      0.93       263\n",
            "                   DAP       0.80      0.77      0.78       245\n",
            "      Ferrous Sulphate       0.98      0.95      0.96       265\n",
            "         Hydrated Lime       1.00      1.00      1.00       279\n",
            "                   MOP       0.81      0.78      0.79       279\n",
            "    Magnesium Sulphate       0.92      0.92      0.92       288\n",
            "                   SSP       0.87      0.85      0.86       268\n",
            "               Sulphur       0.89      0.95      0.92       261\n",
            "                  Urea       0.72      0.60      0.65       289\n",
            "          White Potash       0.95      0.99      0.97       266\n",
            "\n",
            "              accuracy                           0.91      5184\n",
            "             macro avg       0.91      0.91      0.91      5184\n",
            "          weighted avg       0.91      0.91      0.91      5184\n",
            "\n"
          ]
        }
      ],
      "source": [
        "from sklearn.metrics import classification_report\n",
        "\n",
        "y_pred = model.predict(X_test)\n",
        "print(classification_report(Y_test, y_pred, zero_division = 0))"
      ]
    },
    {
      "cell_type": "code",
      "execution_count": 24,
      "metadata": {
        "colab": {
          "base_uri": "https://localhost:8080/",
          "height": 424
        },
        "id": "Cs43SZuU1MxD",
        "outputId": "3fa9598a-8ad9-4aac-b71f-85eded305f86"
      },
      "outputs": [
        {
          "data": {
            "text/html": [
              "<div>\n",
              "<style scoped>\n",
              "    .dataframe tbody tr th:only-of-type {\n",
              "        vertical-align: middle;\n",
              "    }\n",
              "\n",
              "    .dataframe tbody tr th {\n",
              "        vertical-align: top;\n",
              "    }\n",
              "\n",
              "    .dataframe thead th {\n",
              "        text-align: right;\n",
              "    }\n",
              "</style>\n",
              "<table border=\"1\" class=\"dataframe\">\n",
              "  <thead>\n",
              "    <tr style=\"text-align: right;\">\n",
              "      <th></th>\n",
              "      <th>temperature</th>\n",
              "      <th>N</th>\n",
              "      <th>K</th>\n",
              "      <th>P</th>\n",
              "      <th>fertilizer</th>\n",
              "      <th>SQI</th>\n",
              "      <th>Fert_Predict</th>\n",
              "    </tr>\n",
              "  </thead>\n",
              "  <tbody>\n",
              "    <tr>\n",
              "      <th>0</th>\n",
              "      <td>20</td>\n",
              "      <td>75</td>\n",
              "      <td>100</td>\n",
              "      <td>50</td>\n",
              "      <td>Urea</td>\n",
              "      <td>0.472716</td>\n",
              "      <td>Urea</td>\n",
              "    </tr>\n",
              "    <tr>\n",
              "      <th>1</th>\n",
              "      <td>20</td>\n",
              "      <td>80</td>\n",
              "      <td>100</td>\n",
              "      <td>50</td>\n",
              "      <td>Urea</td>\n",
              "      <td>0.483434</td>\n",
              "      <td>Urea</td>\n",
              "    </tr>\n",
              "    <tr>\n",
              "      <th>2</th>\n",
              "      <td>20</td>\n",
              "      <td>85</td>\n",
              "      <td>100</td>\n",
              "      <td>50</td>\n",
              "      <td>Urea</td>\n",
              "      <td>0.494152</td>\n",
              "      <td>Urea</td>\n",
              "    </tr>\n",
              "    <tr>\n",
              "      <th>3</th>\n",
              "      <td>20</td>\n",
              "      <td>90</td>\n",
              "      <td>100</td>\n",
              "      <td>50</td>\n",
              "      <td>Urea</td>\n",
              "      <td>0.504870</td>\n",
              "      <td>Urea</td>\n",
              "    </tr>\n",
              "    <tr>\n",
              "      <th>4</th>\n",
              "      <td>20</td>\n",
              "      <td>95</td>\n",
              "      <td>100</td>\n",
              "      <td>50</td>\n",
              "      <td>Urea</td>\n",
              "      <td>0.515587</td>\n",
              "      <td>Urea</td>\n",
              "    </tr>\n",
              "    <tr>\n",
              "      <th>...</th>\n",
              "      <td>...</td>\n",
              "      <td>...</td>\n",
              "      <td>...</td>\n",
              "      <td>...</td>\n",
              "      <td>...</td>\n",
              "      <td>...</td>\n",
              "      <td>...</td>\n",
              "    </tr>\n",
              "    <tr>\n",
              "      <th>4508</th>\n",
              "      <td>30</td>\n",
              "      <td>130</td>\n",
              "      <td>150</td>\n",
              "      <td>80</td>\n",
              "      <td>MOP</td>\n",
              "      <td>0.923607</td>\n",
              "      <td>MOP</td>\n",
              "    </tr>\n",
              "    <tr>\n",
              "      <th>4509</th>\n",
              "      <td>30</td>\n",
              "      <td>135</td>\n",
              "      <td>150</td>\n",
              "      <td>80</td>\n",
              "      <td>MOP</td>\n",
              "      <td>0.934325</td>\n",
              "      <td>MOP</td>\n",
              "    </tr>\n",
              "    <tr>\n",
              "      <th>4510</th>\n",
              "      <td>30</td>\n",
              "      <td>140</td>\n",
              "      <td>150</td>\n",
              "      <td>80</td>\n",
              "      <td>MOP</td>\n",
              "      <td>0.945043</td>\n",
              "      <td>MOP</td>\n",
              "    </tr>\n",
              "    <tr>\n",
              "      <th>4511</th>\n",
              "      <td>30</td>\n",
              "      <td>145</td>\n",
              "      <td>150</td>\n",
              "      <td>80</td>\n",
              "      <td>MOP</td>\n",
              "      <td>0.955761</td>\n",
              "      <td>MOP</td>\n",
              "    </tr>\n",
              "    <tr>\n",
              "      <th>4512</th>\n",
              "      <td>30</td>\n",
              "      <td>150</td>\n",
              "      <td>150</td>\n",
              "      <td>80</td>\n",
              "      <td>MOP</td>\n",
              "      <td>0.966478</td>\n",
              "      <td>MOP</td>\n",
              "    </tr>\n",
              "  </tbody>\n",
              "</table>\n",
              "<p>4513 rows × 7 columns</p>\n",
              "</div>"
            ],
            "text/plain": [
              "      temperature    N    K   P fertilizer       SQI Fert_Predict\n",
              "0              20   75  100  50       Urea  0.472716         Urea\n",
              "1              20   80  100  50       Urea  0.483434         Urea\n",
              "2              20   85  100  50       Urea  0.494152         Urea\n",
              "3              20   90  100  50       Urea  0.504870         Urea\n",
              "4              20   95  100  50       Urea  0.515587         Urea\n",
              "...           ...  ...  ...  ..        ...       ...          ...\n",
              "4508           30  130  150  80        MOP  0.923607          MOP\n",
              "4509           30  135  150  80        MOP  0.934325          MOP\n",
              "4510           30  140  150  80        MOP  0.945043          MOP\n",
              "4511           30  145  150  80        MOP  0.955761          MOP\n",
              "4512           30  150  150  80        MOP  0.966478          MOP\n",
              "\n",
              "[4513 rows x 7 columns]"
            ]
          },
          "execution_count": 24,
          "metadata": {},
          "output_type": "execute_result"
        }
      ],
      "source": [
        "data['Fert_Predict'] = model.predict(fert_data.drop(columns = [\"fertilizer\"]))\n",
        "data"
      ]
    },
    {
      "cell_type": "code",
      "execution_count": 25,
      "metadata": {
        "id": "WNkLTiUY4E_d"
      },
      "outputs": [],
      "source": [
        "import pickle"
      ]
    },
    {
      "cell_type": "code",
      "execution_count": 26,
      "metadata": {},
      "outputs": [],
      "source": [
        "pickle_file = 'fertilizerPrediction.pkl'\n",
        "with open(pickle_file, 'wb') as file:\n",
        "    pickle.dump(model, file)"
      ]
    },
    {
      "cell_type": "code",
      "execution_count": null,
      "metadata": {},
      "outputs": [],
      "source": []
    },
    {
      "cell_type": "code",
      "execution_count": null,
      "metadata": {},
      "outputs": [],
      "source": []
    },
    {
      "cell_type": "code",
      "execution_count": null,
      "metadata": {},
      "outputs": [],
      "source": []
    },
    {
      "cell_type": "code",
      "execution_count": null,
      "metadata": {},
      "outputs": [],
      "source": []
    }
  ],
  "metadata": {
    "colab": {
      "provenance": []
    },
    "kernelspec": {
      "display_name": "Python 3",
      "name": "python3"
    },
    "language_info": {
      "codemirror_mode": {
        "name": "ipython",
        "version": 3
      },
      "file_extension": ".py",
      "mimetype": "text/x-python",
      "name": "python",
      "nbconvert_exporter": "python",
      "pygments_lexer": "ipython3",
      "version": "3.11.4"
    }
  },
  "nbformat": 4,
  "nbformat_minor": 0
}
